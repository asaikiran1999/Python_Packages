{
  "nbformat": 4,
  "nbformat_minor": 0,
  "metadata": {
    "colab": {
      "provenance": []
    },
    "kernelspec": {
      "name": "python3",
      "display_name": "Python 3"
    },
    "language_info": {
      "name": "python"
    }
  },
  "cells": [
    {
      "cell_type": "markdown",
      "source": [
        "#**SELF CHATBOT**\n",
        "\n",
        "\n",
        "> RUN ENGINES\n",
        "\n",
        "> INVOLVE & EVOLVE\n",
        "\n",
        "\n",
        "\n"
      ],
      "metadata": {
        "id": "czwNwqcmkJYd"
      }
    },
    {
      "cell_type": "markdown",
      "source": [
        "#loading data in json format\n",
        "\n",
        "\n",
        "> json means Java Script Object Notation\n",
        "\n"
      ],
      "metadata": {
        "id": "a-h-Z51Kkgvx"
      }
    },
    {
      "cell_type": "code",
      "execution_count": null,
      "metadata": {
        "id": "d0IqwHAJreiD"
      },
      "outputs": [],
      "source": [
        "import json\n",
        "\n",
        "# Read data from a JSON file\n",
        "with open('data.json') as f:\n",
        "    data = json.load(f)"
      ]
    },
    {
      "cell_type": "code",
      "source": [
        "data"
      ],
      "metadata": {
        "colab": {
          "base_uri": "https://localhost:8080/"
        },
        "id": "I3b-8fsemPxg",
        "outputId": "a8480115-d1d9-4daa-f632-bf5bedbb2ca8"
      },
      "execution_count": null,
      "outputs": [
        {
          "output_type": "execute_result",
          "data": {
            "text/plain": [
              "['User: Hi! How are you?',\n",
              " \"Bot: I'm good, thank you. How can I help you today?\",\n",
              " 'User: Can you explain how to use this feature?',\n",
              " 'Bot: Sure, let me walk you through it.',\n",
              " 'User: what is the present situation of India ?',\n",
              " 'Bot: India is developing in a fast phase.',\n",
              " 'User: how is India?',\n",
              " 'Bot: India is developing in fast phase.',\n",
              " 'User: what about India?',\n",
              " 'Bot: India is developing in a fast phase.',\n",
              " \"User: what is India's developing Phase?\",\n",
              " 'Bot: India is developing at fast Phase.',\n",
              " 'User: what is you education qualification?',\n",
              " 'Bot: I had my BTech.',\n",
              " 'User: I which branch did you had your Btech ?',\n",
              " 'Bot: I had my Btech in CSE.',\n",
              " 'User: what is your specialization in CSE ?',\n",
              " \"Bot: I'm specialized in Data Science.\",\n",
              " 'User: what are your interests?',\n",
              " 'Bot:  Dancer , Social Activist and Data Analyst .',\n",
              " 'User: what are your main goal in life.',\n",
              " 'Bot: To unite farmers and make them having most respectful and profitable life.',\n",
              " 'User:  Who is your favourite hero ?',\n",
              " 'Bot: My favourite hero is Lord Rama.',\n",
              " 'User: Who is your Father ?',\n",
              " 'Bot:  My father is Income Tax Inspector in India.',\n",
              " \"User: what is your mother's name?\",\n",
              " \"Bot: my mother's name is A.Rajeswari.\",\n",
              " 'User: Which caste you belong to ?',\n",
              " \"Bot: Sorry I don't believe in caste .\",\n",
              " 'User:  where you have specialized Data Science ?',\n",
              " 'Bot: I Specialized as Data Scientist in Scaler DSML course.',\n",
              " 'User: What is your internship experiences ?',\n",
              " 'Bot: I did internship in two companies till now one is Innodatatics and the other is TSBRIDGE EDU.',\n",
              " 'User: where did you done your schooling ?',\n",
              " 'Bot: I have done my schooling in Bhasyam , Rajahmundry.',\n",
              " 'User: what is your date of Birth ?',\n",
              " 'Bot: 7th April 1999.',\n",
              " 'User: What is height ?',\n",
              " 'Bot:  my height is \" 5 10\\' \" .in feet.',\n",
              " 'User: How to contact you ?',\n",
              " 'Bot: You can message me on Instagram or linkedIn.',\n",
              " 'User: what is favourite sport ?',\n",
              " 'Bot: I love to play cricket and chess .',\n",
              " 'User: what are you good at as a data Analyst?',\n",
              " \"Bot: I'm good at Maths and Psycology .\",\n",
              " 'User: how much time do you sleep?',\n",
              " 'Bot: i sleep 8 to 10 hours.',\n",
              " 'User: what irritates you more ?',\n",
              " 'Bot: Spending time with stupid one.',\n",
              " 'User: What are stupid people or stupid on in your words?',\n",
              " 'Bot:  One who not even open listen and understand others.',\n",
              " 'User: Which party do you vote in 2024 Election ?',\n",
              " 'Bot:  I will vote for Jenasena Party .',\n",
              " 'User: What is best way to manage life ?',\n",
              " 'Bot: The best way to manage life is give best time and first priority to mental health.',\n",
              " 'User: which god you believe in?',\n",
              " 'Bot: I believe god in helping hands.',\n",
              " 'User: what id you got a opportunity to work outside the country ?',\n",
              " 'Bot: I will maximum try to work from India.',\n",
              " 'User: who is your best supporters in your life?',\n",
              " 'Bot: My family and friends are my best supporters in my life.',\n",
              " 'User: Which tourism place do you want visit in future located in India?',\n",
              " 'Bot: I want visit Himalaya in future.',\n",
              " 'User: what is your favourite colour?',\n",
              " 'Bot: My favourite colour is orange.',\n",
              " 'User: where are you living in India?',\n",
              " \"Bot: I'm living in Rajahmundry.\",\n",
              " 'User: what is your wakeup time?',\n",
              " 'Bot: At morning 7am.',\n",
              " 'User: which job do you like to do ?',\n",
              " 'Bot: I want to be a data analyst.',\n",
              " 'User: what is preparation you do before an interview ?',\n",
              " 'Bot: I focus mainly on the concepts I have used in project.',\n",
              " 'User: why do you want to be a data analayst?',\n",
              " 'Bot: I want to be a data analyst because I can get knowledge by working on different domains.',\n",
              " 'User: why do you want to be a data analayst?',\n",
              " 'Bot: I want to be a data analyst because I can get knowledge by working on different domains.']"
            ]
          },
          "metadata": {},
          "execution_count": 7
        }
      ]
    },
    {
      "cell_type": "markdown",
      "source": [
        "# defining the Main function"
      ],
      "metadata": {
        "id": "nio9CRijlX7T"
      }
    },
    {
      "cell_type": "code",
      "source": [
        "from sklearn.feature_extraction.text import TfidfVectorizer\n",
        "from sklearn.metrics.pairwise import cosine_similarity\n",
        "\n",
        "# Sample conversation data with questions and answers\n",
        "\n",
        "updated_conversations = data.copy()\n",
        "\n",
        "# Fine-tune GPT-2 model on conversation data (commented out)\n",
        "# ... (same as before)\n",
        "\n",
        "def is_question(sentence):\n",
        "    # Remove leading and trailing whitespaces\n",
        "    sentence = sentence.strip()\n",
        "\n",
        "    # Check if the sentence is not empty\n",
        "    if len(sentence) == 0 or sentence== 'exit':\n",
        "        return False\n",
        "\n",
        "    # Check if the sentence ends with a question mark\n",
        "    if sentence.endswith('?'):\n",
        "        return True\n",
        "\n",
        "    # Check if the sentence starts with question words like who, what, where, when, why, how\n",
        "    question_words = ['who', 'what', 'where', 'when', 'why', 'how']\n",
        "    if any(sentence.lower().startswith(word) for word in question_words):\n",
        "        return True\n",
        "\n",
        "counter = 87  # Initialize counter for question handoff\n"
      ],
      "metadata": {
        "id": "PxSSz2FMls1w"
      },
      "execution_count": null,
      "outputs": []
    },
    {
      "cell_type": "markdown",
      "source": [
        "#infinite Questioning loop\n",
        "\n",
        "> limiting to 90 questions count\n",
        "\n"
      ],
      "metadata": {
        "id": "4DMkLJuQlvro"
      }
    },
    {
      "cell_type": "code",
      "source": [
        "while True:\n",
        "    # User input\n",
        "    new_question = input(\"Ask a question (or type 'exit' to end): \")\n",
        "    if not is_question(new_question):\n",
        "        bot_response = \"Ask question in right format, \\n should start with wh words end with '?' \"\n",
        "    if new_question.lower() == 'exit':\n",
        "        break\n",
        "\n",
        "    # Calculate similarity with previous user questions\n",
        "    tfidf_vectorizer = TfidfVectorizer()\n",
        "    tfidf_matrix = tfidf_vectorizer.fit_transform([q.split(':')[1] for q in updated_conversations[::2]])  # Extract user questions\n",
        "    new_question_tfidf = tfidf_vectorizer.transform([new_question])\n",
        "\n",
        "    similarities = cosine_similarity(new_question_tfidf, tfidf_matrix)\n",
        "\n",
        "    if similarities.max() > 0.7:\n",
        "        closest_index = similarities.argmax()\n",
        "        bot_response = updated_conversations[closest_index * 2 + 1]\n",
        "        #counter = 0  # Reset counter if similar question found\n",
        "    else:\n",
        "        counter += 1\n",
        "        print(\"Sending question to human operator...\")\n",
        "        user_answer = input(\"Provide an answer: \")\n",
        "\n",
        "        if is_question(new_question):\n",
        "            bot_response = f\"Bot: {user_answer}\"\n",
        "            updated_conversations.append(f\"User: {new_question}\")\n",
        "            updated_conversations.append(bot_response)\n",
        "\n",
        "        if counter == 90:  # Stop if counter reaches 90\n",
        "            print(\"Reached maximum question handoff limit. Exiting...\")\n",
        "            break\n",
        "\n",
        "    print(\"Bot response:\", bot_response)\n",
        "\n",
        "    print(\"counter\",counter)\n"
      ],
      "metadata": {
        "colab": {
          "base_uri": "https://localhost:8080/"
        },
        "id": "kCeYlYZgl4s9",
        "outputId": "25058aa2-01a1-4870-c539-89c66b7d0979"
      },
      "execution_count": null,
      "outputs": [
        {
          "name": "stdout",
          "output_type": "stream",
          "text": [
            "Ask a question (or type 'exit' to end): where are you living ?\n",
            "Bot response: Bot: I'm living in Rajahmundry.\n",
            "counter 90\n",
            "Ask a question (or type 'exit' to end): What is your country?\n",
            "Sending question to human operator...\n",
            "Provide an answer: India is my country.\n",
            "Bot response: Bot: India is my country.\n",
            "counter 91\n",
            "Ask a question (or type 'exit' to end): exit\n"
          ]
        }
      ]
    },
    {
      "cell_type": "markdown",
      "source": [
        "#**YOUR TASK** : Build your own datastructure which unites all questions in dataset which give similar or same answer."
      ],
      "metadata": {
        "id": "-h35pd3mpOcS"
      }
    },
    {
      "cell_type": "code",
      "source": [],
      "metadata": {
        "id": "cp8zlHCymh0f"
      },
      "execution_count": null,
      "outputs": []
    }
  ]
}