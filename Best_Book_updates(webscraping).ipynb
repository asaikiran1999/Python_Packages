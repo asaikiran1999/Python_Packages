{
  "nbformat": 4,
  "nbformat_minor": 0,
  "metadata": {
    "colab": {
      "provenance": [],
      "collapsed_sections": [
        "Hx9y_0BNrmTz",
        "LTAyfA4_rocn",
        "hMht82SWr2BN",
        "ENptYTRer2hA",
        "F8sgN3MUr-82",
        "0Wd6yMDsQbDl"
      ]
    },
    "kernelspec": {
      "name": "python3",
      "display_name": "Python 3"
    },
    "language_info": {
      "name": "python"
    }
  },
  "cells": [
    {
      "cell_type": "markdown",
      "source": [
        "#DAILY/WEEKLY/MONTHLY/YEARLY **BEST BOOK SALES**\n",
        "(**WEBSCRAPING using Python**)\n",
        "\n",
        "> RUN ENGINES\n",
        "\n",
        "> INVOLVE AND EVOLVE\n",
        "\n",
        "\n",
        "\n"
      ],
      "metadata": {
        "id": "5r4giEoSrmXN"
      }
    },
    {
      "cell_type": "markdown",
      "source": [
        "#Installation of requests package"
      ],
      "metadata": {
        "id": "Hx9y_0BNrmTz"
      }
    },
    {
      "cell_type": "code",
      "execution_count": null,
      "metadata": {
        "id": "OGiMZIx-DTSi",
        "colab": {
          "base_uri": "https://localhost:8080/"
        },
        "outputId": "ae79d80d-b9e6-4882-97ab-86d59c7dfacb"
      },
      "outputs": [
        {
          "output_type": "stream",
          "name": "stdout",
          "text": [
            "Requirement already satisfied: requests in /usr/local/lib/python3.10/dist-packages (2.31.0)\n",
            "Requirement already satisfied: charset-normalizer<4,>=2 in /usr/local/lib/python3.10/dist-packages (from requests) (3.3.2)\n",
            "Requirement already satisfied: idna<4,>=2.5 in /usr/local/lib/python3.10/dist-packages (from requests) (3.7)\n",
            "Requirement already satisfied: urllib3<3,>=1.21.1 in /usr/local/lib/python3.10/dist-packages (from requests) (2.0.7)\n",
            "Requirement already satisfied: certifi>=2017.4.17 in /usr/local/lib/python3.10/dist-packages (from requests) (2024.7.4)\n"
          ]
        }
      ],
      "source": [
        "pip install requests"
      ]
    },
    {
      "cell_type": "markdown",
      "source": [
        "#USING REQUEST TO WEB-SCRAP **HTML_TEXT**"
      ],
      "metadata": {
        "id": "LTAyfA4_rocn"
      }
    },
    {
      "cell_type": "code",
      "source": [
        "from bs4 import BeautifulSoup\n",
        "import requests\n",
        "\n",
        "html_text =requests.get('https://www.amazon.in/gp/bestsellers/books/').text\n"
      ],
      "metadata": {
        "id": "460tkx8SDkZF"
      },
      "execution_count": null,
      "outputs": []
    },
    {
      "cell_type": "code",
      "source": [
        "html_text[:50]"
      ],
      "metadata": {
        "id": "wIYaaOiWILg4",
        "colab": {
          "base_uri": "https://localhost:8080/",
          "height": 36
        },
        "outputId": "92896685-987f-44e5-9e74-10c63d4bc8da"
      },
      "execution_count": null,
      "outputs": [
        {
          "output_type": "execute_result",
          "data": {
            "text/plain": [
              "'<!doctype html><html lang=\"en-in\" class=\"a-no-js\" '"
            ],
            "application/vnd.google.colaboratory.intrinsic+json": {
              "type": "string"
            }
          },
          "metadata": {},
          "execution_count": 4
        }
      ]
    },
    {
      "cell_type": "markdown",
      "source": [
        "#USING THE BEAUTIFUL SOUP TO CONVERT IT INTO **lxml**"
      ],
      "metadata": {
        "id": "hMht82SWr2BN"
      }
    },
    {
      "cell_type": "code",
      "source": [
        "soup = BeautifulSoup(html_text,'lxml')"
      ],
      "metadata": {
        "id": "O418rlGdH9ug"
      },
      "execution_count": null,
      "outputs": []
    },
    {
      "cell_type": "markdown",
      "source": [
        "#GETTING **DATA OF BOOKS** INDIVIDUALLY"
      ],
      "metadata": {
        "id": "ENptYTRer2hA"
      }
    },
    {
      "cell_type": "code",
      "source": [
        "Overall_web_Soup = soup.find_all('img',class_=\"a-dynamic-image p13n-sc-dynamic-image p13n-product-image\")  #''' <img alt=\"I Don't Love You Anymore: Moving On and Living Your Best Life | National Bestseller by Rithvik Singh | Original Edition\" src=\"https://images-eu.ssl-images-amazon.com/images/I/61JHKeVfYBL._AC_UL600_SR600,400_.jpg\" class=\"a-dynamic-image p13n-sc-dynamic-image p13n-product-image\" height=\"200px\" data-a-dynamic-image=\"{&quot;https://images-eu.ssl-images-amazon.com/images/I/61JHKeVfYBL._AC_UL300_SR300,200_.jpg&quot;:[300,200],&quot;https://images-eu.ssl-images-amazon.com/images/I/61JHKeVfYBL._AC_UL600_SR600,400_.jpg&quot;:[600,400],&quot;https://images-eu.ssl-images-amazon.com/images/I/61JHKeVfYBL._AC_UL900_SR900,600_.jpg&quot;:[900,600]}\" style=\"max-width:300px;max-height:200px\">'''"
      ],
      "metadata": {
        "id": "yHJnUjyII4b0"
      },
      "execution_count": null,
      "outputs": []
    },
    {
      "cell_type": "code",
      "source": [
        "Overall_web_Soup[0]"
      ],
      "metadata": {
        "id": "R5Q_hGq-mtkG",
        "colab": {
          "base_uri": "https://localhost:8080/"
        },
        "outputId": "72d1afdd-8a57-48af-a8be-79bd6c92446e"
      },
      "execution_count": null,
      "outputs": [
        {
          "output_type": "execute_result",
          "data": {
            "text/plain": [
              "<img alt=\"I Don't Love You Anymore: Moving On and Living Your Best Life | National Bestseller by Rithvik Singh | Original Edition\" class=\"a-dynamic-image p13n-sc-dynamic-image p13n-product-image\" data-a-dynamic-image='{\"https://images-eu.ssl-images-amazon.com/images/I/61JHKeVfYBL._AC_UL300_SR300,200_.jpg\":[300,200],\"https://images-eu.ssl-images-amazon.com/images/I/61JHKeVfYBL._AC_UL600_SR600,400_.jpg\":[600,400],\"https://images-eu.ssl-images-amazon.com/images/I/61JHKeVfYBL._AC_UL900_SR900,600_.jpg\":[900,600]}' height=\"200px\" src=\"https://images-eu.ssl-images-amazon.com/images/I/61JHKeVfYBL._AC_UL300_SR300,200_.jpg\" style=\"max-width:300px;max-height:200px\"/>"
            ]
          },
          "metadata": {},
          "execution_count": 7
        }
      ]
    },
    {
      "cell_type": "markdown",
      "source": [
        "**BOOK NAME**"
      ],
      "metadata": {
        "id": "3_rMNPBft3JS"
      }
    },
    {
      "cell_type": "code",
      "source": [
        "len(Overall_web_Soup)"
      ],
      "metadata": {
        "id": "hml6eX11FWwa",
        "colab": {
          "base_uri": "https://localhost:8080/"
        },
        "outputId": "ea2b195d-2c31-463a-9d46-41297a0f3fc6"
      },
      "execution_count": null,
      "outputs": [
        {
          "output_type": "execute_result",
          "data": {
            "text/plain": [
              "50"
            ]
          },
          "metadata": {},
          "execution_count": 8
        }
      ]
    },
    {
      "cell_type": "code",
      "source": [
        "Overall_web_Soup[0].get('alt')"
      ],
      "metadata": {
        "id": "HN1ckKWaJeFS",
        "colab": {
          "base_uri": "https://localhost:8080/",
          "height": 36
        },
        "outputId": "be1580cb-c257-49fd-bcf0-80333877df5d"
      },
      "execution_count": null,
      "outputs": [
        {
          "output_type": "execute_result",
          "data": {
            "text/plain": [
              "\"I Don't Love You Anymore: Moving On and Living Your Best Life | National Bestseller by Rithvik Singh | Original Edition\""
            ],
            "application/vnd.google.colaboratory.intrinsic+json": {
              "type": "string"
            }
          },
          "metadata": {},
          "execution_count": 10
        }
      ]
    },
    {
      "cell_type": "markdown",
      "source": [
        "**LINK OF IMAGE**"
      ],
      "metadata": {
        "id": "osSt0b0at7j0"
      }
    },
    {
      "cell_type": "code",
      "source": [
        "Overall_web_Soup[0].get('src')"
      ],
      "metadata": {
        "id": "CrlKMpffkqCD",
        "colab": {
          "base_uri": "https://localhost:8080/",
          "height": 36
        },
        "outputId": "0c18326c-4daf-4504-9579-e2abcf7299f3"
      },
      "execution_count": null,
      "outputs": [
        {
          "output_type": "execute_result",
          "data": {
            "text/plain": [
              "'https://images-eu.ssl-images-amazon.com/images/I/61JHKeVfYBL._AC_UL300_SR300,200_.jpg'"
            ],
            "application/vnd.google.colaboratory.intrinsic+json": {
              "type": "string"
            }
          },
          "metadata": {},
          "execution_count": 11
        }
      ]
    },
    {
      "cell_type": "markdown",
      "source": [
        "**BOOK AUTHOR**"
      ],
      "metadata": {
        "id": "f5pbEgiur4lS"
      }
    },
    {
      "cell_type": "code",
      "source": [
        "authername=soup.find_all('a', class_=\"a-size-small a-link-child\")#<div class=\"a-row a-size-small\"><a class=\"a-size-small a-link-child\" href=\"/Rithvik-Singh/e/B0CY298MZK/ref=zg_bs_g_books_d_sccl_1_bl/000-0000000-0000000\"><div class=\"_cDEzb_p13n-sc-css-line-clamp-1_1Fn1y\">Rithvik Singh</div></a></div>"
      ],
      "metadata": {
        "id": "YUVZCevOoR5o"
      },
      "execution_count": null,
      "outputs": []
    },
    {
      "cell_type": "code",
      "source": [
        "print(authername[0].text)"
      ],
      "metadata": {
        "id": "7Fg3rnWODaGE",
        "colab": {
          "base_uri": "https://localhost:8080/"
        },
        "outputId": "a2283d5b-04c0-4bda-df62-4b48c36156e5"
      },
      "execution_count": null,
      "outputs": [
        {
          "output_type": "stream",
          "name": "stdout",
          "text": [
            "Rithvik Singh\n"
          ]
        }
      ]
    },
    {
      "cell_type": "code",
      "source": [
        "len(authername)"
      ],
      "metadata": {
        "id": "oLCN0HG_DRgG",
        "colab": {
          "base_uri": "https://localhost:8080/"
        },
        "outputId": "19886f69-2932-4b18-fd66-c8658f177d78"
      },
      "execution_count": null,
      "outputs": [
        {
          "output_type": "execute_result",
          "data": {
            "text/plain": [
              "33"
            ]
          },
          "metadata": {},
          "execution_count": 14
        }
      ]
    },
    {
      "cell_type": "code",
      "source": [
        "authername[0].text"
      ],
      "metadata": {
        "id": "NUxfx7aMom_3",
        "colab": {
          "base_uri": "https://localhost:8080/",
          "height": 36
        },
        "outputId": "ed7b7a64-2532-48b8-a53c-b2d6d29f1599"
      },
      "execution_count": null,
      "outputs": [
        {
          "output_type": "execute_result",
          "data": {
            "text/plain": [
              "'Rithvik Singh'"
            ],
            "application/vnd.google.colaboratory.intrinsic+json": {
              "type": "string"
            }
          },
          "metadata": {},
          "execution_count": 15
        }
      ]
    },
    {
      "cell_type": "markdown",
      "source": [
        "**Book Rating**"
      ],
      "metadata": {
        "id": "W8sZPnrRCVX0"
      }
    },
    {
      "cell_type": "code",
      "source": [
        "rating = soup.find_all('span',class_=\"a-icon-alt\") #<i class=\"a-icon a-icon-star-small a-star-small-4 aok-align-top\"><span class=\"a-icon-alt\">4.2 out of 5 stars</span></i>"
      ],
      "metadata": {
        "id": "70orbZyipDPo"
      },
      "execution_count": null,
      "outputs": []
    },
    {
      "cell_type": "code",
      "source": [
        "rating"
      ],
      "metadata": {
        "id": "JYwZVGDupa0_",
        "colab": {
          "base_uri": "https://localhost:8080/"
        },
        "outputId": "a3f62a97-0598-47f5-8ef5-5a1876046b4a"
      },
      "execution_count": null,
      "outputs": [
        {
          "output_type": "execute_result",
          "data": {
            "text/plain": [
              "[<span class=\"a-icon-alt\">4.1 out of 5 stars</span>,\n",
              " <span class=\"a-icon-alt\">4.9 out of 5 stars</span>,\n",
              " <span class=\"a-icon-alt\">4.5 out of 5 stars</span>,\n",
              " <span class=\"a-icon-alt\">4.0 out of 5 stars</span>,\n",
              " <span class=\"a-icon-alt\">4.4 out of 5 stars</span>,\n",
              " <span class=\"a-icon-alt\">4.6 out of 5 stars</span>,\n",
              " <span class=\"a-icon-alt\">4.6 out of 5 stars</span>,\n",
              " <span class=\"a-icon-alt\">4.5 out of 5 stars</span>,\n",
              " <span class=\"a-icon-alt\">4.4 out of 5 stars</span>,\n",
              " <span class=\"a-icon-alt\">4.4 out of 5 stars</span>,\n",
              " <span class=\"a-icon-alt\">4.6 out of 5 stars</span>,\n",
              " <span class=\"a-icon-alt\">4.4 out of 5 stars</span>,\n",
              " <span class=\"a-icon-alt\">4.6 out of 5 stars</span>,\n",
              " <span class=\"a-icon-alt\">4.5 out of 5 stars</span>,\n",
              " <span class=\"a-icon-alt\">4.4 out of 5 stars</span>,\n",
              " <span class=\"a-icon-alt\">4.5 out of 5 stars</span>,\n",
              " <span class=\"a-icon-alt\">4.2 out of 5 stars</span>,\n",
              " <span class=\"a-icon-alt\">4.6 out of 5 stars</span>,\n",
              " <span class=\"a-icon-alt\">4.4 out of 5 stars</span>,\n",
              " <span class=\"a-icon-alt\">4.2 out of 5 stars</span>,\n",
              " <span class=\"a-icon-alt\">4.3 out of 5 stars</span>,\n",
              " <span class=\"a-icon-alt\">4.5 out of 5 stars</span>,\n",
              " <span class=\"a-icon-alt\">4.7 out of 5 stars</span>,\n",
              " <span class=\"a-icon-alt\">4.4 out of 5 stars</span>,\n",
              " <span class=\"a-icon-alt\">4.4 out of 5 stars</span>,\n",
              " <span class=\"a-icon-alt\">4.4 out of 5 stars</span>,\n",
              " <span class=\"a-icon-alt\">4.6 out of 5 stars</span>,\n",
              " <span class=\"a-icon-alt\">4.4 out of 5 stars</span>,\n",
              " <span class=\"a-icon-alt\">4.5 out of 5 stars</span>,\n",
              " <span class=\"a-icon-alt\">4.6 out of 5 stars</span>,\n",
              " <span class=\"a-icon-alt\">4.8 out of 5 stars</span>,\n",
              " <span class=\"a-icon-alt\">4.6 out of 5 stars</span>,\n",
              " <span class=\"a-icon-alt\">4.4 out of 5 stars</span>,\n",
              " <span class=\"a-icon-alt\">4.5 out of 5 stars</span>,\n",
              " <span class=\"a-icon-alt\">4.6 out of 5 stars</span>,\n",
              " <span class=\"a-icon-alt\">4.6 out of 5 stars</span>,\n",
              " <span class=\"a-icon-alt\">4.2 out of 5 stars</span>,\n",
              " <span class=\"a-icon-alt\">4.4 out of 5 stars</span>,\n",
              " <span class=\"a-icon-alt\">4.4 out of 5 stars</span>,\n",
              " <span class=\"a-icon-alt\">4.6 out of 5 stars</span>,\n",
              " <span class=\"a-icon-alt\">3.8 out of 5 stars</span>,\n",
              " <span class=\"a-icon-alt\">4.4 out of 5 stars</span>,\n",
              " <span class=\"a-icon-alt\">4.5 out of 5 stars</span>,\n",
              " <span class=\"a-icon-alt\">4.3 out of 5 stars</span>,\n",
              " <span class=\"a-icon-alt\">4.4 out of 5 stars</span>,\n",
              " <span class=\"a-icon-alt\">4.6 out of 5 stars</span>,\n",
              " <span class=\"a-icon-alt\">4.5 out of 5 stars</span>,\n",
              " <span class=\"a-icon-alt\">4.5 out of 5 stars</span>]"
            ]
          },
          "metadata": {},
          "execution_count": 17
        }
      ]
    },
    {
      "cell_type": "code",
      "source": [
        "len(rating)"
      ],
      "metadata": {
        "id": "wYZlgYZMCS56",
        "colab": {
          "base_uri": "https://localhost:8080/"
        },
        "outputId": "97ab28fd-0ac4-4fe1-a83a-d26aa2c97006"
      },
      "execution_count": null,
      "outputs": [
        {
          "output_type": "execute_result",
          "data": {
            "text/plain": [
              "48"
            ]
          },
          "metadata": {},
          "execution_count": 18
        }
      ]
    },
    {
      "cell_type": "code",
      "source": [
        "rating[0].text"
      ],
      "metadata": {
        "id": "0yxykXZlCGCh",
        "colab": {
          "base_uri": "https://localhost:8080/",
          "height": 36
        },
        "outputId": "0ca5cdc0-b9b9-4a66-e29c-8ba20d9128f0"
      },
      "execution_count": null,
      "outputs": [
        {
          "output_type": "execute_result",
          "data": {
            "text/plain": [
              "'4.1 out of 5 stars'"
            ],
            "application/vnd.google.colaboratory.intrinsic+json": {
              "type": "string"
            }
          },
          "metadata": {},
          "execution_count": 19
        }
      ]
    },
    {
      "cell_type": "markdown",
      "source": [
        "**BOOK RATING**"
      ],
      "metadata": {
        "id": "yOJIIYTLuNTV"
      }
    },
    {
      "cell_type": "code",
      "source": [
        "len(rating)"
      ],
      "metadata": {
        "id": "rdz0O-OqA8ew",
        "colab": {
          "base_uri": "https://localhost:8080/"
        },
        "outputId": "cbd915b2-350d-415e-a4a4-2732b2c0c5e0"
      },
      "execution_count": null,
      "outputs": [
        {
          "output_type": "execute_result",
          "data": {
            "text/plain": [
              "48"
            ]
          },
          "metadata": {},
          "execution_count": 20
        }
      ]
    },
    {
      "cell_type": "markdown",
      "source": [
        "**RATED PEOPLE NUMBER**"
      ],
      "metadata": {
        "id": "LFLccWu0uRea"
      }
    },
    {
      "cell_type": "code",
      "source": [
        "rated_no = soup.find_all('span',class_=\"a-size-small\")"
      ],
      "metadata": {
        "id": "wn0HiIC1vgrd"
      },
      "execution_count": null,
      "outputs": []
    },
    {
      "cell_type": "code",
      "source": [
        "int(rated_no[0].text)#<span class=\"a-size-small\">224</span>"
      ],
      "metadata": {
        "id": "tpT2T-BRppRM",
        "colab": {
          "base_uri": "https://localhost:8080/"
        },
        "outputId": "d1105d83-d59b-40c2-cc67-f5ee7055b434"
      },
      "execution_count": null,
      "outputs": [
        {
          "output_type": "execute_result",
          "data": {
            "text/plain": [
              "240"
            ]
          },
          "metadata": {},
          "execution_count": 22
        }
      ]
    },
    {
      "cell_type": "code",
      "source": [
        "x = [rated_no[i].text for i in range(0,50)]"
      ],
      "metadata": {
        "id": "Qr-R5xCQ_d33"
      },
      "execution_count": null,
      "outputs": []
    },
    {
      "cell_type": "code",
      "source": [
        "\n",
        "\n",
        "x"
      ],
      "metadata": {
        "id": "Jf6ZBJzGIGlQ",
        "colab": {
          "base_uri": "https://localhost:8080/"
        },
        "outputId": "16449ed1-8c55-4925-c259-8b27c3cc800e"
      },
      "execution_count": null,
      "outputs": [
        {
          "output_type": "execute_result",
          "data": {
            "text/plain": [
              "['240',\n",
              " 'Paperback',\n",
              " '374',\n",
              " 'Paperback',\n",
              " '78,831',\n",
              " 'Board book',\n",
              " 'Sank Magic',\n",
              " '2,345',\n",
              " 'Spiral-bound',\n",
              " '333',\n",
              " 'Paperback',\n",
              " '64,854',\n",
              " 'Paperback',\n",
              " '95,395',\n",
              " 'Paperback',\n",
              " '6,836',\n",
              " 'Paperback',\n",
              " '28,313',\n",
              " 'Paperback',\n",
              " '12,880',\n",
              " 'Paperback',\n",
              " '55,336',\n",
              " 'Hardcover',\n",
              " '4,948',\n",
              " 'Paperback',\n",
              " 'Murty Sudha',\n",
              " '20,918',\n",
              " 'Paperback',\n",
              " '5,752',\n",
              " 'Hardcover',\n",
              " '29',\n",
              " 'Paperback',\n",
              " '2,876',\n",
              " 'Product Bundle',\n",
              " 'Dr. Binay Karna',\n",
              " '5',\n",
              " 'Unknown Binding',\n",
              " 'Team Pegasus',\n",
              " '1,341',\n",
              " 'Paperback',\n",
              " 'Aditya Sir Ranjan',\n",
              " '2,065',\n",
              " 'Paperback',\n",
              " '18,788',\n",
              " 'Paperback',\n",
              " 'Paperback',\n",
              " '12,669',\n",
              " 'Paperback',\n",
              " '314,178',\n",
              " 'Paperback']"
            ]
          },
          "metadata": {},
          "execution_count": 24
        }
      ]
    },
    {
      "cell_type": "code",
      "source": [
        "len(x)"
      ],
      "metadata": {
        "id": "B0SnkkZw_5q7",
        "colab": {
          "base_uri": "https://localhost:8080/"
        },
        "outputId": "70ec7b49-963c-4c22-b575-e996da6d2434"
      },
      "execution_count": null,
      "outputs": [
        {
          "output_type": "execute_result",
          "data": {
            "text/plain": [
              "50"
            ]
          },
          "metadata": {},
          "execution_count": 25
        }
      ]
    },
    {
      "cell_type": "markdown",
      "source": [
        "#CREATING A DATAFRAME"
      ],
      "metadata": {
        "id": "F8sgN3MUr-82"
      }
    },
    {
      "cell_type": "code",
      "source": [
        "import pandas as pd\n",
        "\n",
        "df= pd.DataFrame(columns=['Bookname',\"image\",\"Rated_number_of_people\"])#created a empty DataFrame"
      ],
      "metadata": {
        "id": "bRNqwYSVr8oh"
      },
      "execution_count": null,
      "outputs": []
    },
    {
      "cell_type": "code",
      "source": [
        "df.head()"
      ],
      "metadata": {
        "id": "kAsvUrx1w_6X",
        "colab": {
          "base_uri": "https://localhost:8080/",
          "height": 53
        },
        "outputId": "e3c04750-52e4-4a91-fc12-2577986d3a94"
      },
      "execution_count": null,
      "outputs": [
        {
          "output_type": "execute_result",
          "data": {
            "text/plain": [
              "Empty DataFrame\n",
              "Columns: [Bookname, image, Rated_number_of_people]\n",
              "Index: []"
            ],
            "text/html": [
              "\n",
              "  <div id=\"df-b68863f8-d5a9-45c2-bd21-2e7cb0b28726\" class=\"colab-df-container\">\n",
              "    <div>\n",
              "<style scoped>\n",
              "    .dataframe tbody tr th:only-of-type {\n",
              "        vertical-align: middle;\n",
              "    }\n",
              "\n",
              "    .dataframe tbody tr th {\n",
              "        vertical-align: top;\n",
              "    }\n",
              "\n",
              "    .dataframe thead th {\n",
              "        text-align: right;\n",
              "    }\n",
              "</style>\n",
              "<table border=\"1\" class=\"dataframe\">\n",
              "  <thead>\n",
              "    <tr style=\"text-align: right;\">\n",
              "      <th></th>\n",
              "      <th>Bookname</th>\n",
              "      <th>image</th>\n",
              "      <th>Rated_number_of_people</th>\n",
              "    </tr>\n",
              "  </thead>\n",
              "  <tbody>\n",
              "  </tbody>\n",
              "</table>\n",
              "</div>\n",
              "    <div class=\"colab-df-buttons\">\n",
              "\n",
              "  <div class=\"colab-df-container\">\n",
              "    <button class=\"colab-df-convert\" onclick=\"convertToInteractive('df-b68863f8-d5a9-45c2-bd21-2e7cb0b28726')\"\n",
              "            title=\"Convert this dataframe to an interactive table.\"\n",
              "            style=\"display:none;\">\n",
              "\n",
              "  <svg xmlns=\"http://www.w3.org/2000/svg\" height=\"24px\" viewBox=\"0 -960 960 960\">\n",
              "    <path d=\"M120-120v-720h720v720H120Zm60-500h600v-160H180v160Zm220 220h160v-160H400v160Zm0 220h160v-160H400v160ZM180-400h160v-160H180v160Zm440 0h160v-160H620v160ZM180-180h160v-160H180v160Zm440 0h160v-160H620v160Z\"/>\n",
              "  </svg>\n",
              "    </button>\n",
              "\n",
              "  <style>\n",
              "    .colab-df-container {\n",
              "      display:flex;\n",
              "      gap: 12px;\n",
              "    }\n",
              "\n",
              "    .colab-df-convert {\n",
              "      background-color: #E8F0FE;\n",
              "      border: none;\n",
              "      border-radius: 50%;\n",
              "      cursor: pointer;\n",
              "      display: none;\n",
              "      fill: #1967D2;\n",
              "      height: 32px;\n",
              "      padding: 0 0 0 0;\n",
              "      width: 32px;\n",
              "    }\n",
              "\n",
              "    .colab-df-convert:hover {\n",
              "      background-color: #E2EBFA;\n",
              "      box-shadow: 0px 1px 2px rgba(60, 64, 67, 0.3), 0px 1px 3px 1px rgba(60, 64, 67, 0.15);\n",
              "      fill: #174EA6;\n",
              "    }\n",
              "\n",
              "    .colab-df-buttons div {\n",
              "      margin-bottom: 4px;\n",
              "    }\n",
              "\n",
              "    [theme=dark] .colab-df-convert {\n",
              "      background-color: #3B4455;\n",
              "      fill: #D2E3FC;\n",
              "    }\n",
              "\n",
              "    [theme=dark] .colab-df-convert:hover {\n",
              "      background-color: #434B5C;\n",
              "      box-shadow: 0px 1px 3px 1px rgba(0, 0, 0, 0.15);\n",
              "      filter: drop-shadow(0px 1px 2px rgba(0, 0, 0, 0.3));\n",
              "      fill: #FFFFFF;\n",
              "    }\n",
              "  </style>\n",
              "\n",
              "    <script>\n",
              "      const buttonEl =\n",
              "        document.querySelector('#df-b68863f8-d5a9-45c2-bd21-2e7cb0b28726 button.colab-df-convert');\n",
              "      buttonEl.style.display =\n",
              "        google.colab.kernel.accessAllowed ? 'block' : 'none';\n",
              "\n",
              "      async function convertToInteractive(key) {\n",
              "        const element = document.querySelector('#df-b68863f8-d5a9-45c2-bd21-2e7cb0b28726');\n",
              "        const dataTable =\n",
              "          await google.colab.kernel.invokeFunction('convertToInteractive',\n",
              "                                                    [key], {});\n",
              "        if (!dataTable) return;\n",
              "\n",
              "        const docLinkHtml = 'Like what you see? Visit the ' +\n",
              "          '<a target=\"_blank\" href=https://colab.research.google.com/notebooks/data_table.ipynb>data table notebook</a>'\n",
              "          + ' to learn more about interactive tables.';\n",
              "        element.innerHTML = '';\n",
              "        dataTable['output_type'] = 'display_data';\n",
              "        await google.colab.output.renderOutput(dataTable, element);\n",
              "        const docLink = document.createElement('div');\n",
              "        docLink.innerHTML = docLinkHtml;\n",
              "        element.appendChild(docLink);\n",
              "      }\n",
              "    </script>\n",
              "  </div>\n",
              "\n",
              "\n",
              "    </div>\n",
              "  </div>\n"
            ],
            "application/vnd.google.colaboratory.intrinsic+json": {
              "type": "dataframe",
              "variable_name": "df",
              "repr_error": "Out of range float values are not JSON compliant: nan"
            }
          },
          "metadata": {},
          "execution_count": 27
        }
      ]
    },
    {
      "cell_type": "code",
      "source": [
        "y = [[Overall_web_Soup[i].get('alt'), Overall_web_Soup[i].get('src'), x[i]] for i in range(0, 50)]\n"
      ],
      "metadata": {
        "id": "4rNQmf5e7OxY"
      },
      "execution_count": null,
      "outputs": []
    },
    {
      "cell_type": "code",
      "source": [
        "df=pd.DataFrame(y)"
      ],
      "metadata": {
        "id": "Lqv8hXF9JFu2"
      },
      "execution_count": null,
      "outputs": []
    },
    {
      "cell_type": "code",
      "source": [
        "df.head(10)"
      ],
      "metadata": {
        "id": "mCLGsy_BJTvV",
        "colab": {
          "base_uri": "https://localhost:8080/",
          "height": 363
        },
        "outputId": "97a05fbf-8d2f-4ef7-98ef-3a8c7949566d"
      },
      "execution_count": null,
      "outputs": [
        {
          "output_type": "execute_result",
          "data": {
            "text/plain": [
              "                                                   0  \\\n",
              "0  I Don't Love You Anymore: Moving On and Living...   \n",
              "1                         Amma Diarylo Konni Pageelu   \n",
              "2  My First Library: Boxset of 10 Board Books for...   \n",
              "3  MINtile Sank Magic Practice Copybook, (4 Book ...   \n",
              "4  BlackBook of English Vocabulary May 2024 by Ni...   \n",
              "5                            The Psychology of Money   \n",
              "6                                      Atomic Habits   \n",
              "7       Don't Believe Everything You Think (English)   \n",
              "8  My First Book of Patterns Pencil Control: Patt...   \n",
              "9  The Power of Your Subconscious Mind: Original ...   \n",
              "\n",
              "                                                   1             2  \n",
              "0  https://images-eu.ssl-images-amazon.com/images...           240  \n",
              "1  https://images-eu.ssl-images-amazon.com/images...     Paperback  \n",
              "2  https://images-eu.ssl-images-amazon.com/images...           374  \n",
              "3  https://images-eu.ssl-images-amazon.com/images...     Paperback  \n",
              "4  https://images-eu.ssl-images-amazon.com/images...        78,831  \n",
              "5  https://images-eu.ssl-images-amazon.com/images...    Board book  \n",
              "6  https://images-eu.ssl-images-amazon.com/images...    Sank Magic  \n",
              "7  https://images-eu.ssl-images-amazon.com/images...         2,345  \n",
              "8  https://images-eu.ssl-images-amazon.com/images...  Spiral-bound  \n",
              "9  https://images-eu.ssl-images-amazon.com/images...           333  "
            ],
            "text/html": [
              "\n",
              "  <div id=\"df-5fe7a73b-12b1-4f9f-9d9b-41bf7d73b420\" class=\"colab-df-container\">\n",
              "    <div>\n",
              "<style scoped>\n",
              "    .dataframe tbody tr th:only-of-type {\n",
              "        vertical-align: middle;\n",
              "    }\n",
              "\n",
              "    .dataframe tbody tr th {\n",
              "        vertical-align: top;\n",
              "    }\n",
              "\n",
              "    .dataframe thead th {\n",
              "        text-align: right;\n",
              "    }\n",
              "</style>\n",
              "<table border=\"1\" class=\"dataframe\">\n",
              "  <thead>\n",
              "    <tr style=\"text-align: right;\">\n",
              "      <th></th>\n",
              "      <th>0</th>\n",
              "      <th>1</th>\n",
              "      <th>2</th>\n",
              "    </tr>\n",
              "  </thead>\n",
              "  <tbody>\n",
              "    <tr>\n",
              "      <th>0</th>\n",
              "      <td>I Don't Love You Anymore: Moving On and Living...</td>\n",
              "      <td>https://images-eu.ssl-images-amazon.com/images...</td>\n",
              "      <td>240</td>\n",
              "    </tr>\n",
              "    <tr>\n",
              "      <th>1</th>\n",
              "      <td>Amma Diarylo Konni Pageelu</td>\n",
              "      <td>https://images-eu.ssl-images-amazon.com/images...</td>\n",
              "      <td>Paperback</td>\n",
              "    </tr>\n",
              "    <tr>\n",
              "      <th>2</th>\n",
              "      <td>My First Library: Boxset of 10 Board Books for...</td>\n",
              "      <td>https://images-eu.ssl-images-amazon.com/images...</td>\n",
              "      <td>374</td>\n",
              "    </tr>\n",
              "    <tr>\n",
              "      <th>3</th>\n",
              "      <td>MINtile Sank Magic Practice Copybook, (4 Book ...</td>\n",
              "      <td>https://images-eu.ssl-images-amazon.com/images...</td>\n",
              "      <td>Paperback</td>\n",
              "    </tr>\n",
              "    <tr>\n",
              "      <th>4</th>\n",
              "      <td>BlackBook of English Vocabulary May 2024 by Ni...</td>\n",
              "      <td>https://images-eu.ssl-images-amazon.com/images...</td>\n",
              "      <td>78,831</td>\n",
              "    </tr>\n",
              "    <tr>\n",
              "      <th>5</th>\n",
              "      <td>The Psychology of Money</td>\n",
              "      <td>https://images-eu.ssl-images-amazon.com/images...</td>\n",
              "      <td>Board book</td>\n",
              "    </tr>\n",
              "    <tr>\n",
              "      <th>6</th>\n",
              "      <td>Atomic Habits</td>\n",
              "      <td>https://images-eu.ssl-images-amazon.com/images...</td>\n",
              "      <td>Sank Magic</td>\n",
              "    </tr>\n",
              "    <tr>\n",
              "      <th>7</th>\n",
              "      <td>Don't Believe Everything You Think (English)</td>\n",
              "      <td>https://images-eu.ssl-images-amazon.com/images...</td>\n",
              "      <td>2,345</td>\n",
              "    </tr>\n",
              "    <tr>\n",
              "      <th>8</th>\n",
              "      <td>My First Book of Patterns Pencil Control: Patt...</td>\n",
              "      <td>https://images-eu.ssl-images-amazon.com/images...</td>\n",
              "      <td>Spiral-bound</td>\n",
              "    </tr>\n",
              "    <tr>\n",
              "      <th>9</th>\n",
              "      <td>The Power of Your Subconscious Mind: Original ...</td>\n",
              "      <td>https://images-eu.ssl-images-amazon.com/images...</td>\n",
              "      <td>333</td>\n",
              "    </tr>\n",
              "  </tbody>\n",
              "</table>\n",
              "</div>\n",
              "    <div class=\"colab-df-buttons\">\n",
              "\n",
              "  <div class=\"colab-df-container\">\n",
              "    <button class=\"colab-df-convert\" onclick=\"convertToInteractive('df-5fe7a73b-12b1-4f9f-9d9b-41bf7d73b420')\"\n",
              "            title=\"Convert this dataframe to an interactive table.\"\n",
              "            style=\"display:none;\">\n",
              "\n",
              "  <svg xmlns=\"http://www.w3.org/2000/svg\" height=\"24px\" viewBox=\"0 -960 960 960\">\n",
              "    <path d=\"M120-120v-720h720v720H120Zm60-500h600v-160H180v160Zm220 220h160v-160H400v160Zm0 220h160v-160H400v160ZM180-400h160v-160H180v160Zm440 0h160v-160H620v160ZM180-180h160v-160H180v160Zm440 0h160v-160H620v160Z\"/>\n",
              "  </svg>\n",
              "    </button>\n",
              "\n",
              "  <style>\n",
              "    .colab-df-container {\n",
              "      display:flex;\n",
              "      gap: 12px;\n",
              "    }\n",
              "\n",
              "    .colab-df-convert {\n",
              "      background-color: #E8F0FE;\n",
              "      border: none;\n",
              "      border-radius: 50%;\n",
              "      cursor: pointer;\n",
              "      display: none;\n",
              "      fill: #1967D2;\n",
              "      height: 32px;\n",
              "      padding: 0 0 0 0;\n",
              "      width: 32px;\n",
              "    }\n",
              "\n",
              "    .colab-df-convert:hover {\n",
              "      background-color: #E2EBFA;\n",
              "      box-shadow: 0px 1px 2px rgba(60, 64, 67, 0.3), 0px 1px 3px 1px rgba(60, 64, 67, 0.15);\n",
              "      fill: #174EA6;\n",
              "    }\n",
              "\n",
              "    .colab-df-buttons div {\n",
              "      margin-bottom: 4px;\n",
              "    }\n",
              "\n",
              "    [theme=dark] .colab-df-convert {\n",
              "      background-color: #3B4455;\n",
              "      fill: #D2E3FC;\n",
              "    }\n",
              "\n",
              "    [theme=dark] .colab-df-convert:hover {\n",
              "      background-color: #434B5C;\n",
              "      box-shadow: 0px 1px 3px 1px rgba(0, 0, 0, 0.15);\n",
              "      filter: drop-shadow(0px 1px 2px rgba(0, 0, 0, 0.3));\n",
              "      fill: #FFFFFF;\n",
              "    }\n",
              "  </style>\n",
              "\n",
              "    <script>\n",
              "      const buttonEl =\n",
              "        document.querySelector('#df-5fe7a73b-12b1-4f9f-9d9b-41bf7d73b420 button.colab-df-convert');\n",
              "      buttonEl.style.display =\n",
              "        google.colab.kernel.accessAllowed ? 'block' : 'none';\n",
              "\n",
              "      async function convertToInteractive(key) {\n",
              "        const element = document.querySelector('#df-5fe7a73b-12b1-4f9f-9d9b-41bf7d73b420');\n",
              "        const dataTable =\n",
              "          await google.colab.kernel.invokeFunction('convertToInteractive',\n",
              "                                                    [key], {});\n",
              "        if (!dataTable) return;\n",
              "\n",
              "        const docLinkHtml = 'Like what you see? Visit the ' +\n",
              "          '<a target=\"_blank\" href=https://colab.research.google.com/notebooks/data_table.ipynb>data table notebook</a>'\n",
              "          + ' to learn more about interactive tables.';\n",
              "        element.innerHTML = '';\n",
              "        dataTable['output_type'] = 'display_data';\n",
              "        await google.colab.output.renderOutput(dataTable, element);\n",
              "        const docLink = document.createElement('div');\n",
              "        docLink.innerHTML = docLinkHtml;\n",
              "        element.appendChild(docLink);\n",
              "      }\n",
              "    </script>\n",
              "  </div>\n",
              "\n",
              "\n",
              "<div id=\"df-02446746-fbcd-4b66-9442-acbdf41e1052\">\n",
              "  <button class=\"colab-df-quickchart\" onclick=\"quickchart('df-02446746-fbcd-4b66-9442-acbdf41e1052')\"\n",
              "            title=\"Suggest charts\"\n",
              "            style=\"display:none;\">\n",
              "\n",
              "<svg xmlns=\"http://www.w3.org/2000/svg\" height=\"24px\"viewBox=\"0 0 24 24\"\n",
              "     width=\"24px\">\n",
              "    <g>\n",
              "        <path d=\"M19 3H5c-1.1 0-2 .9-2 2v14c0 1.1.9 2 2 2h14c1.1 0 2-.9 2-2V5c0-1.1-.9-2-2-2zM9 17H7v-7h2v7zm4 0h-2V7h2v10zm4 0h-2v-4h2v4z\"/>\n",
              "    </g>\n",
              "</svg>\n",
              "  </button>\n",
              "\n",
              "<style>\n",
              "  .colab-df-quickchart {\n",
              "      --bg-color: #E8F0FE;\n",
              "      --fill-color: #1967D2;\n",
              "      --hover-bg-color: #E2EBFA;\n",
              "      --hover-fill-color: #174EA6;\n",
              "      --disabled-fill-color: #AAA;\n",
              "      --disabled-bg-color: #DDD;\n",
              "  }\n",
              "\n",
              "  [theme=dark] .colab-df-quickchart {\n",
              "      --bg-color: #3B4455;\n",
              "      --fill-color: #D2E3FC;\n",
              "      --hover-bg-color: #434B5C;\n",
              "      --hover-fill-color: #FFFFFF;\n",
              "      --disabled-bg-color: #3B4455;\n",
              "      --disabled-fill-color: #666;\n",
              "  }\n",
              "\n",
              "  .colab-df-quickchart {\n",
              "    background-color: var(--bg-color);\n",
              "    border: none;\n",
              "    border-radius: 50%;\n",
              "    cursor: pointer;\n",
              "    display: none;\n",
              "    fill: var(--fill-color);\n",
              "    height: 32px;\n",
              "    padding: 0;\n",
              "    width: 32px;\n",
              "  }\n",
              "\n",
              "  .colab-df-quickchart:hover {\n",
              "    background-color: var(--hover-bg-color);\n",
              "    box-shadow: 0 1px 2px rgba(60, 64, 67, 0.3), 0 1px 3px 1px rgba(60, 64, 67, 0.15);\n",
              "    fill: var(--button-hover-fill-color);\n",
              "  }\n",
              "\n",
              "  .colab-df-quickchart-complete:disabled,\n",
              "  .colab-df-quickchart-complete:disabled:hover {\n",
              "    background-color: var(--disabled-bg-color);\n",
              "    fill: var(--disabled-fill-color);\n",
              "    box-shadow: none;\n",
              "  }\n",
              "\n",
              "  .colab-df-spinner {\n",
              "    border: 2px solid var(--fill-color);\n",
              "    border-color: transparent;\n",
              "    border-bottom-color: var(--fill-color);\n",
              "    animation:\n",
              "      spin 1s steps(1) infinite;\n",
              "  }\n",
              "\n",
              "  @keyframes spin {\n",
              "    0% {\n",
              "      border-color: transparent;\n",
              "      border-bottom-color: var(--fill-color);\n",
              "      border-left-color: var(--fill-color);\n",
              "    }\n",
              "    20% {\n",
              "      border-color: transparent;\n",
              "      border-left-color: var(--fill-color);\n",
              "      border-top-color: var(--fill-color);\n",
              "    }\n",
              "    30% {\n",
              "      border-color: transparent;\n",
              "      border-left-color: var(--fill-color);\n",
              "      border-top-color: var(--fill-color);\n",
              "      border-right-color: var(--fill-color);\n",
              "    }\n",
              "    40% {\n",
              "      border-color: transparent;\n",
              "      border-right-color: var(--fill-color);\n",
              "      border-top-color: var(--fill-color);\n",
              "    }\n",
              "    60% {\n",
              "      border-color: transparent;\n",
              "      border-right-color: var(--fill-color);\n",
              "    }\n",
              "    80% {\n",
              "      border-color: transparent;\n",
              "      border-right-color: var(--fill-color);\n",
              "      border-bottom-color: var(--fill-color);\n",
              "    }\n",
              "    90% {\n",
              "      border-color: transparent;\n",
              "      border-bottom-color: var(--fill-color);\n",
              "    }\n",
              "  }\n",
              "</style>\n",
              "\n",
              "  <script>\n",
              "    async function quickchart(key) {\n",
              "      const quickchartButtonEl =\n",
              "        document.querySelector('#' + key + ' button');\n",
              "      quickchartButtonEl.disabled = true;  // To prevent multiple clicks.\n",
              "      quickchartButtonEl.classList.add('colab-df-spinner');\n",
              "      try {\n",
              "        const charts = await google.colab.kernel.invokeFunction(\n",
              "            'suggestCharts', [key], {});\n",
              "      } catch (error) {\n",
              "        console.error('Error during call to suggestCharts:', error);\n",
              "      }\n",
              "      quickchartButtonEl.classList.remove('colab-df-spinner');\n",
              "      quickchartButtonEl.classList.add('colab-df-quickchart-complete');\n",
              "    }\n",
              "    (() => {\n",
              "      let quickchartButtonEl =\n",
              "        document.querySelector('#df-02446746-fbcd-4b66-9442-acbdf41e1052 button');\n",
              "      quickchartButtonEl.style.display =\n",
              "        google.colab.kernel.accessAllowed ? 'block' : 'none';\n",
              "    })();\n",
              "  </script>\n",
              "</div>\n",
              "\n",
              "    </div>\n",
              "  </div>\n"
            ],
            "application/vnd.google.colaboratory.intrinsic+json": {
              "type": "dataframe",
              "variable_name": "df",
              "summary": "{\n  \"name\": \"df\",\n  \"rows\": 50,\n  \"fields\": [\n    {\n      \"column\": 0,\n      \"properties\": {\n        \"dtype\": \"string\",\n        \"num_unique_values\": 50,\n        \"samples\": [\n          \"Animals Tales From Panchtantra: Timeless Stories for Children From Ancient India\",\n          \"All In One Science CBSE Class 10th Based On Latest NCERT For CBSE Exams 2025 | Mind map in each chapter | Clear & Concise The\",\n          \"White Nights\"\n        ],\n        \"semantic_type\": \"\",\n        \"description\": \"\"\n      }\n    },\n    {\n      \"column\": 1,\n      \"properties\": {\n        \"dtype\": \"string\",\n        \"num_unique_values\": 50,\n        \"samples\": [\n          \"https://images-eu.ssl-images-amazon.com/images/I/71NM33ZCE1L._AC_UL300_SR300,200_.jpg\",\n          \"https://images-eu.ssl-images-amazon.com/images/I/81EmSiRmxXL._AC_UL300_SR300,200_.jpg\",\n          \"https://images-eu.ssl-images-amazon.com/images/I/41hykoV3d-L._AC_UL300_SR300,200_.jpg\"\n        ],\n        \"semantic_type\": \"\",\n        \"description\": \"\"\n      }\n    },\n    {\n      \"column\": 2,\n      \"properties\": {\n        \"dtype\": \"string\",\n        \"num_unique_values\": 33,\n        \"samples\": [\n          \"12,669\",\n          \"Hardcover\",\n          \"Team Pegasus\"\n        ],\n        \"semantic_type\": \"\",\n        \"description\": \"\"\n      }\n    }\n  ]\n}"
            }
          },
          "metadata": {},
          "execution_count": 30
        }
      ]
    },
    {
      "cell_type": "code",
      "source": [
        "\n",
        "df.columns=[\"Book Name\",\"book_image_link\",\"Price/pack\"]"
      ],
      "metadata": {
        "id": "VqvO9hHtNNTN"
      },
      "execution_count": null,
      "outputs": []
    },
    {
      "cell_type": "code",
      "source": [
        "df.head(50)"
      ],
      "metadata": {
        "id": "EozEcfCnNddF",
        "colab": {
          "base_uri": "https://localhost:8080/",
          "height": 1000
        },
        "outputId": "a09d1cd0-f494-4de8-eedd-93718e88cb80"
      },
      "execution_count": null,
      "outputs": [
        {
          "output_type": "execute_result",
          "data": {
            "text/plain": [
              "                                            Book Name  \\\n",
              "0   I Don't Love You Anymore: Moving On and Living...   \n",
              "1                          Amma Diarylo Konni Pageelu   \n",
              "2   My First Library: Boxset of 10 Board Books for...   \n",
              "3   MINtile Sank Magic Practice Copybook, (4 Book ...   \n",
              "4   BlackBook of English Vocabulary May 2024 by Ni...   \n",
              "5                             The Psychology of Money   \n",
              "6                                       Atomic Habits   \n",
              "7        Don't Believe Everything You Think (English)   \n",
              "8   My First Book of Patterns Pencil Control: Patt...   \n",
              "9   The Power of Your Subconscious Mind: Original ...   \n",
              "10                                             Ikigai   \n",
              "11  Coloring Books Box Set: Pack of 12 Copy Color ...   \n",
              "12  Grandma's Bag of Stories: Collection of 20+ Il...   \n",
              "13  Animals Tales From Panchtantra: Timeless Stori...   \n",
              "14  The Satvic Revolution: 7 Life-Changing Habits ...   \n",
              "15  Moral Story Books for Kids (Illustrated) - Eng...   \n",
              "16  Lucent's General Knowledge 2024 in English | 1...   \n",
              "17  1001 Ultimate Brain Booster Activities for 4+ ...   \n",
              "18  BRAHMASTRA Complete Maths Multicolored Formula...   \n",
              "19  The Mountain Is You: Transforming Self-Sabotag...   \n",
              "20  Science (Curiosity) Textbook For Class 6 First...   \n",
              "21  Writing Practice Boxset: Pack of 4 Books (Writ...   \n",
              "22   THE SILENT PATIENT [Paperback] Michaelides, Alex   \n",
              "23  PW Physics Med Easy Notes | Notes, Formulas, M...   \n",
              "24  My First Mythology Tale (Illustrated) (Set of ...   \n",
              "25  Word Power Made Easy By Norman Lewis (More tha...   \n",
              "26  The Art of Being Alone: Loneliness Was My Cage...   \n",
              "27  CLASS 6 EXPLORING SOCIETY INDIA AND BEYOND SOC...   \n",
              "28                 The Naga Warriors: Battle of Gokul   \n",
              "29  Dopamine Detox : A Short Guide to Remove Distr...   \n",
              "30                                       White Nights   \n",
              "31  Indian Polity for UPSC (English)|7th Edition|C...   \n",
              "32            Shrimad Bhagwat Geeta Yatharoop (Hindi)   \n",
              "33             11 Rules For Life: Secrets to Level Up   \n",
              "34  All In One Social Science CBSE Class 10th Base...   \n",
              "35  The Art of Laziness: Overcome Procrastination ...   \n",
              "36                         Kai Chaand The Sar-e-asman   \n",
              "37  Courage To Be Disliked, The: How to free yours...   \n",
              "38  Maths Concept King All Formulas and Theorum | ...   \n",
              "39  All In One Science CBSE Class 10th Based On La...   \n",
              "40  Best Books Series Set of 3 Hidden Hindu Triolo...   \n",
              "41                     The Magic Of The Lost Temple**   \n",
              "42  Quantitative Aptitude for CAT | 11th Edition (...   \n",
              "43                                        Meditations   \n",
              "44  Rich Dad Poor Dad : What the Rich Teach Their ...   \n",
              "45  NTA UGC NET '24 Paper 1 By Kvs Madaan|Teaching...   \n",
              "46  Oswaal CBSE Question Bank Class 10 Science, Ch...   \n",
              "47  1001 Jumbo Brain Booster Activities for 5 to 8...   \n",
              "48  MTG International Mathematics Olympiad (IMO) W...   \n",
              "49                                     Norwegian Wood   \n",
              "\n",
              "                                      book_image_link         Price/pack  \n",
              "0   https://images-eu.ssl-images-amazon.com/images...                240  \n",
              "1   https://images-eu.ssl-images-amazon.com/images...          Paperback  \n",
              "2   https://images-eu.ssl-images-amazon.com/images...                374  \n",
              "3   https://images-eu.ssl-images-amazon.com/images...          Paperback  \n",
              "4   https://images-eu.ssl-images-amazon.com/images...             78,831  \n",
              "5   https://images-eu.ssl-images-amazon.com/images...         Board book  \n",
              "6   https://images-eu.ssl-images-amazon.com/images...         Sank Magic  \n",
              "7   https://images-eu.ssl-images-amazon.com/images...              2,345  \n",
              "8   https://images-eu.ssl-images-amazon.com/images...       Spiral-bound  \n",
              "9   https://images-eu.ssl-images-amazon.com/images...                333  \n",
              "10  https://images-eu.ssl-images-amazon.com/images...          Paperback  \n",
              "11  https://images-eu.ssl-images-amazon.com/images...             64,854  \n",
              "12  https://images-eu.ssl-images-amazon.com/images...          Paperback  \n",
              "13  https://images-eu.ssl-images-amazon.com/images...             95,395  \n",
              "14  https://images-eu.ssl-images-amazon.com/images...          Paperback  \n",
              "15  https://images-eu.ssl-images-amazon.com/images...              6,836  \n",
              "16  https://images-eu.ssl-images-amazon.com/images...          Paperback  \n",
              "17  https://images-eu.ssl-images-amazon.com/images...             28,313  \n",
              "18  https://images-eu.ssl-images-amazon.com/images...          Paperback  \n",
              "19  https://images-eu.ssl-images-amazon.com/images...             12,880  \n",
              "20  https://images-eu.ssl-images-amazon.com/images...          Paperback  \n",
              "21  https://images-eu.ssl-images-amazon.com/images...             55,336  \n",
              "22  https://images-eu.ssl-images-amazon.com/images...          Hardcover  \n",
              "23  https://images-eu.ssl-images-amazon.com/images...              4,948  \n",
              "24  https://images-eu.ssl-images-amazon.com/images...          Paperback  \n",
              "25  https://images-eu.ssl-images-amazon.com/images...        Murty Sudha  \n",
              "26  https://images-eu.ssl-images-amazon.com/images...             20,918  \n",
              "27  https://images-eu.ssl-images-amazon.com/images...          Paperback  \n",
              "28  https://images-eu.ssl-images-amazon.com/images...              5,752  \n",
              "29  https://images-eu.ssl-images-amazon.com/images...          Hardcover  \n",
              "30  https://images-eu.ssl-images-amazon.com/images...                 29  \n",
              "31  https://images-eu.ssl-images-amazon.com/images...          Paperback  \n",
              "32  https://images-eu.ssl-images-amazon.com/images...              2,876  \n",
              "33  https://images-eu.ssl-images-amazon.com/images...     Product Bundle  \n",
              "34  https://images-eu.ssl-images-amazon.com/images...    Dr. Binay Karna  \n",
              "35  https://images-eu.ssl-images-amazon.com/images...                  5  \n",
              "36  https://images-eu.ssl-images-amazon.com/images...    Unknown Binding  \n",
              "37  https://images-eu.ssl-images-amazon.com/images...       Team Pegasus  \n",
              "38  https://images-eu.ssl-images-amazon.com/images...              1,341  \n",
              "39  https://images-eu.ssl-images-amazon.com/images...          Paperback  \n",
              "40  https://images-eu.ssl-images-amazon.com/images...  Aditya Sir Ranjan  \n",
              "41  https://images-eu.ssl-images-amazon.com/images...              2,065  \n",
              "42  https://images-eu.ssl-images-amazon.com/images...          Paperback  \n",
              "43  https://images-eu.ssl-images-amazon.com/images...             18,788  \n",
              "44  https://images-eu.ssl-images-amazon.com/images...          Paperback  \n",
              "45  https://images-eu.ssl-images-amazon.com/images...          Paperback  \n",
              "46  https://images-eu.ssl-images-amazon.com/images...             12,669  \n",
              "47  https://images-eu.ssl-images-amazon.com/images...          Paperback  \n",
              "48  https://images-eu.ssl-images-amazon.com/images...            314,178  \n",
              "49  https://images-eu.ssl-images-amazon.com/images...          Paperback  "
            ],
            "text/html": [
              "\n",
              "  <div id=\"df-25f00dc9-cf60-4764-9501-ae02d8d5ed8b\" class=\"colab-df-container\">\n",
              "    <div>\n",
              "<style scoped>\n",
              "    .dataframe tbody tr th:only-of-type {\n",
              "        vertical-align: middle;\n",
              "    }\n",
              "\n",
              "    .dataframe tbody tr th {\n",
              "        vertical-align: top;\n",
              "    }\n",
              "\n",
              "    .dataframe thead th {\n",
              "        text-align: right;\n",
              "    }\n",
              "</style>\n",
              "<table border=\"1\" class=\"dataframe\">\n",
              "  <thead>\n",
              "    <tr style=\"text-align: right;\">\n",
              "      <th></th>\n",
              "      <th>Book Name</th>\n",
              "      <th>book_image_link</th>\n",
              "      <th>Price/pack</th>\n",
              "    </tr>\n",
              "  </thead>\n",
              "  <tbody>\n",
              "    <tr>\n",
              "      <th>0</th>\n",
              "      <td>I Don't Love You Anymore: Moving On and Living...</td>\n",
              "      <td>https://images-eu.ssl-images-amazon.com/images...</td>\n",
              "      <td>240</td>\n",
              "    </tr>\n",
              "    <tr>\n",
              "      <th>1</th>\n",
              "      <td>Amma Diarylo Konni Pageelu</td>\n",
              "      <td>https://images-eu.ssl-images-amazon.com/images...</td>\n",
              "      <td>Paperback</td>\n",
              "    </tr>\n",
              "    <tr>\n",
              "      <th>2</th>\n",
              "      <td>My First Library: Boxset of 10 Board Books for...</td>\n",
              "      <td>https://images-eu.ssl-images-amazon.com/images...</td>\n",
              "      <td>374</td>\n",
              "    </tr>\n",
              "    <tr>\n",
              "      <th>3</th>\n",
              "      <td>MINtile Sank Magic Practice Copybook, (4 Book ...</td>\n",
              "      <td>https://images-eu.ssl-images-amazon.com/images...</td>\n",
              "      <td>Paperback</td>\n",
              "    </tr>\n",
              "    <tr>\n",
              "      <th>4</th>\n",
              "      <td>BlackBook of English Vocabulary May 2024 by Ni...</td>\n",
              "      <td>https://images-eu.ssl-images-amazon.com/images...</td>\n",
              "      <td>78,831</td>\n",
              "    </tr>\n",
              "    <tr>\n",
              "      <th>5</th>\n",
              "      <td>The Psychology of Money</td>\n",
              "      <td>https://images-eu.ssl-images-amazon.com/images...</td>\n",
              "      <td>Board book</td>\n",
              "    </tr>\n",
              "    <tr>\n",
              "      <th>6</th>\n",
              "      <td>Atomic Habits</td>\n",
              "      <td>https://images-eu.ssl-images-amazon.com/images...</td>\n",
              "      <td>Sank Magic</td>\n",
              "    </tr>\n",
              "    <tr>\n",
              "      <th>7</th>\n",
              "      <td>Don't Believe Everything You Think (English)</td>\n",
              "      <td>https://images-eu.ssl-images-amazon.com/images...</td>\n",
              "      <td>2,345</td>\n",
              "    </tr>\n",
              "    <tr>\n",
              "      <th>8</th>\n",
              "      <td>My First Book of Patterns Pencil Control: Patt...</td>\n",
              "      <td>https://images-eu.ssl-images-amazon.com/images...</td>\n",
              "      <td>Spiral-bound</td>\n",
              "    </tr>\n",
              "    <tr>\n",
              "      <th>9</th>\n",
              "      <td>The Power of Your Subconscious Mind: Original ...</td>\n",
              "      <td>https://images-eu.ssl-images-amazon.com/images...</td>\n",
              "      <td>333</td>\n",
              "    </tr>\n",
              "    <tr>\n",
              "      <th>10</th>\n",
              "      <td>Ikigai</td>\n",
              "      <td>https://images-eu.ssl-images-amazon.com/images...</td>\n",
              "      <td>Paperback</td>\n",
              "    </tr>\n",
              "    <tr>\n",
              "      <th>11</th>\n",
              "      <td>Coloring Books Box Set: Pack of 12 Copy Color ...</td>\n",
              "      <td>https://images-eu.ssl-images-amazon.com/images...</td>\n",
              "      <td>64,854</td>\n",
              "    </tr>\n",
              "    <tr>\n",
              "      <th>12</th>\n",
              "      <td>Grandma's Bag of Stories: Collection of 20+ Il...</td>\n",
              "      <td>https://images-eu.ssl-images-amazon.com/images...</td>\n",
              "      <td>Paperback</td>\n",
              "    </tr>\n",
              "    <tr>\n",
              "      <th>13</th>\n",
              "      <td>Animals Tales From Panchtantra: Timeless Stori...</td>\n",
              "      <td>https://images-eu.ssl-images-amazon.com/images...</td>\n",
              "      <td>95,395</td>\n",
              "    </tr>\n",
              "    <tr>\n",
              "      <th>14</th>\n",
              "      <td>The Satvic Revolution: 7 Life-Changing Habits ...</td>\n",
              "      <td>https://images-eu.ssl-images-amazon.com/images...</td>\n",
              "      <td>Paperback</td>\n",
              "    </tr>\n",
              "    <tr>\n",
              "      <th>15</th>\n",
              "      <td>Moral Story Books for Kids (Illustrated) - Eng...</td>\n",
              "      <td>https://images-eu.ssl-images-amazon.com/images...</td>\n",
              "      <td>6,836</td>\n",
              "    </tr>\n",
              "    <tr>\n",
              "      <th>16</th>\n",
              "      <td>Lucent's General Knowledge 2024 in English | 1...</td>\n",
              "      <td>https://images-eu.ssl-images-amazon.com/images...</td>\n",
              "      <td>Paperback</td>\n",
              "    </tr>\n",
              "    <tr>\n",
              "      <th>17</th>\n",
              "      <td>1001 Ultimate Brain Booster Activities for 4+ ...</td>\n",
              "      <td>https://images-eu.ssl-images-amazon.com/images...</td>\n",
              "      <td>28,313</td>\n",
              "    </tr>\n",
              "    <tr>\n",
              "      <th>18</th>\n",
              "      <td>BRAHMASTRA Complete Maths Multicolored Formula...</td>\n",
              "      <td>https://images-eu.ssl-images-amazon.com/images...</td>\n",
              "      <td>Paperback</td>\n",
              "    </tr>\n",
              "    <tr>\n",
              "      <th>19</th>\n",
              "      <td>The Mountain Is You: Transforming Self-Sabotag...</td>\n",
              "      <td>https://images-eu.ssl-images-amazon.com/images...</td>\n",
              "      <td>12,880</td>\n",
              "    </tr>\n",
              "    <tr>\n",
              "      <th>20</th>\n",
              "      <td>Science (Curiosity) Textbook For Class 6 First...</td>\n",
              "      <td>https://images-eu.ssl-images-amazon.com/images...</td>\n",
              "      <td>Paperback</td>\n",
              "    </tr>\n",
              "    <tr>\n",
              "      <th>21</th>\n",
              "      <td>Writing Practice Boxset: Pack of 4 Books (Writ...</td>\n",
              "      <td>https://images-eu.ssl-images-amazon.com/images...</td>\n",
              "      <td>55,336</td>\n",
              "    </tr>\n",
              "    <tr>\n",
              "      <th>22</th>\n",
              "      <td>THE SILENT PATIENT [Paperback] Michaelides, Alex</td>\n",
              "      <td>https://images-eu.ssl-images-amazon.com/images...</td>\n",
              "      <td>Hardcover</td>\n",
              "    </tr>\n",
              "    <tr>\n",
              "      <th>23</th>\n",
              "      <td>PW Physics Med Easy Notes | Notes, Formulas, M...</td>\n",
              "      <td>https://images-eu.ssl-images-amazon.com/images...</td>\n",
              "      <td>4,948</td>\n",
              "    </tr>\n",
              "    <tr>\n",
              "      <th>24</th>\n",
              "      <td>My First Mythology Tale (Illustrated) (Set of ...</td>\n",
              "      <td>https://images-eu.ssl-images-amazon.com/images...</td>\n",
              "      <td>Paperback</td>\n",
              "    </tr>\n",
              "    <tr>\n",
              "      <th>25</th>\n",
              "      <td>Word Power Made Easy By Norman Lewis (More tha...</td>\n",
              "      <td>https://images-eu.ssl-images-amazon.com/images...</td>\n",
              "      <td>Murty Sudha</td>\n",
              "    </tr>\n",
              "    <tr>\n",
              "      <th>26</th>\n",
              "      <td>The Art of Being Alone: Loneliness Was My Cage...</td>\n",
              "      <td>https://images-eu.ssl-images-amazon.com/images...</td>\n",
              "      <td>20,918</td>\n",
              "    </tr>\n",
              "    <tr>\n",
              "      <th>27</th>\n",
              "      <td>CLASS 6 EXPLORING SOCIETY INDIA AND BEYOND SOC...</td>\n",
              "      <td>https://images-eu.ssl-images-amazon.com/images...</td>\n",
              "      <td>Paperback</td>\n",
              "    </tr>\n",
              "    <tr>\n",
              "      <th>28</th>\n",
              "      <td>The Naga Warriors: Battle of Gokul</td>\n",
              "      <td>https://images-eu.ssl-images-amazon.com/images...</td>\n",
              "      <td>5,752</td>\n",
              "    </tr>\n",
              "    <tr>\n",
              "      <th>29</th>\n",
              "      <td>Dopamine Detox : A Short Guide to Remove Distr...</td>\n",
              "      <td>https://images-eu.ssl-images-amazon.com/images...</td>\n",
              "      <td>Hardcover</td>\n",
              "    </tr>\n",
              "    <tr>\n",
              "      <th>30</th>\n",
              "      <td>White Nights</td>\n",
              "      <td>https://images-eu.ssl-images-amazon.com/images...</td>\n",
              "      <td>29</td>\n",
              "    </tr>\n",
              "    <tr>\n",
              "      <th>31</th>\n",
              "      <td>Indian Polity for UPSC (English)|7th Edition|C...</td>\n",
              "      <td>https://images-eu.ssl-images-amazon.com/images...</td>\n",
              "      <td>Paperback</td>\n",
              "    </tr>\n",
              "    <tr>\n",
              "      <th>32</th>\n",
              "      <td>Shrimad Bhagwat Geeta Yatharoop (Hindi)</td>\n",
              "      <td>https://images-eu.ssl-images-amazon.com/images...</td>\n",
              "      <td>2,876</td>\n",
              "    </tr>\n",
              "    <tr>\n",
              "      <th>33</th>\n",
              "      <td>11 Rules For Life: Secrets to Level Up</td>\n",
              "      <td>https://images-eu.ssl-images-amazon.com/images...</td>\n",
              "      <td>Product Bundle</td>\n",
              "    </tr>\n",
              "    <tr>\n",
              "      <th>34</th>\n",
              "      <td>All In One Social Science CBSE Class 10th Base...</td>\n",
              "      <td>https://images-eu.ssl-images-amazon.com/images...</td>\n",
              "      <td>Dr. Binay Karna</td>\n",
              "    </tr>\n",
              "    <tr>\n",
              "      <th>35</th>\n",
              "      <td>The Art of Laziness: Overcome Procrastination ...</td>\n",
              "      <td>https://images-eu.ssl-images-amazon.com/images...</td>\n",
              "      <td>5</td>\n",
              "    </tr>\n",
              "    <tr>\n",
              "      <th>36</th>\n",
              "      <td>Kai Chaand The Sar-e-asman</td>\n",
              "      <td>https://images-eu.ssl-images-amazon.com/images...</td>\n",
              "      <td>Unknown Binding</td>\n",
              "    </tr>\n",
              "    <tr>\n",
              "      <th>37</th>\n",
              "      <td>Courage To Be Disliked, The: How to free yours...</td>\n",
              "      <td>https://images-eu.ssl-images-amazon.com/images...</td>\n",
              "      <td>Team Pegasus</td>\n",
              "    </tr>\n",
              "    <tr>\n",
              "      <th>38</th>\n",
              "      <td>Maths Concept King All Formulas and Theorum | ...</td>\n",
              "      <td>https://images-eu.ssl-images-amazon.com/images...</td>\n",
              "      <td>1,341</td>\n",
              "    </tr>\n",
              "    <tr>\n",
              "      <th>39</th>\n",
              "      <td>All In One Science CBSE Class 10th Based On La...</td>\n",
              "      <td>https://images-eu.ssl-images-amazon.com/images...</td>\n",
              "      <td>Paperback</td>\n",
              "    </tr>\n",
              "    <tr>\n",
              "      <th>40</th>\n",
              "      <td>Best Books Series Set of 3 Hidden Hindu Triolo...</td>\n",
              "      <td>https://images-eu.ssl-images-amazon.com/images...</td>\n",
              "      <td>Aditya Sir Ranjan</td>\n",
              "    </tr>\n",
              "    <tr>\n",
              "      <th>41</th>\n",
              "      <td>The Magic Of The Lost Temple**</td>\n",
              "      <td>https://images-eu.ssl-images-amazon.com/images...</td>\n",
              "      <td>2,065</td>\n",
              "    </tr>\n",
              "    <tr>\n",
              "      <th>42</th>\n",
              "      <td>Quantitative Aptitude for CAT | 11th Edition (...</td>\n",
              "      <td>https://images-eu.ssl-images-amazon.com/images...</td>\n",
              "      <td>Paperback</td>\n",
              "    </tr>\n",
              "    <tr>\n",
              "      <th>43</th>\n",
              "      <td>Meditations</td>\n",
              "      <td>https://images-eu.ssl-images-amazon.com/images...</td>\n",
              "      <td>18,788</td>\n",
              "    </tr>\n",
              "    <tr>\n",
              "      <th>44</th>\n",
              "      <td>Rich Dad Poor Dad : What the Rich Teach Their ...</td>\n",
              "      <td>https://images-eu.ssl-images-amazon.com/images...</td>\n",
              "      <td>Paperback</td>\n",
              "    </tr>\n",
              "    <tr>\n",
              "      <th>45</th>\n",
              "      <td>NTA UGC NET '24 Paper 1 By Kvs Madaan|Teaching...</td>\n",
              "      <td>https://images-eu.ssl-images-amazon.com/images...</td>\n",
              "      <td>Paperback</td>\n",
              "    </tr>\n",
              "    <tr>\n",
              "      <th>46</th>\n",
              "      <td>Oswaal CBSE Question Bank Class 10 Science, Ch...</td>\n",
              "      <td>https://images-eu.ssl-images-amazon.com/images...</td>\n",
              "      <td>12,669</td>\n",
              "    </tr>\n",
              "    <tr>\n",
              "      <th>47</th>\n",
              "      <td>1001 Jumbo Brain Booster Activities for 5 to 8...</td>\n",
              "      <td>https://images-eu.ssl-images-amazon.com/images...</td>\n",
              "      <td>Paperback</td>\n",
              "    </tr>\n",
              "    <tr>\n",
              "      <th>48</th>\n",
              "      <td>MTG International Mathematics Olympiad (IMO) W...</td>\n",
              "      <td>https://images-eu.ssl-images-amazon.com/images...</td>\n",
              "      <td>314,178</td>\n",
              "    </tr>\n",
              "    <tr>\n",
              "      <th>49</th>\n",
              "      <td>Norwegian Wood</td>\n",
              "      <td>https://images-eu.ssl-images-amazon.com/images...</td>\n",
              "      <td>Paperback</td>\n",
              "    </tr>\n",
              "  </tbody>\n",
              "</table>\n",
              "</div>\n",
              "    <div class=\"colab-df-buttons\">\n",
              "\n",
              "  <div class=\"colab-df-container\">\n",
              "    <button class=\"colab-df-convert\" onclick=\"convertToInteractive('df-25f00dc9-cf60-4764-9501-ae02d8d5ed8b')\"\n",
              "            title=\"Convert this dataframe to an interactive table.\"\n",
              "            style=\"display:none;\">\n",
              "\n",
              "  <svg xmlns=\"http://www.w3.org/2000/svg\" height=\"24px\" viewBox=\"0 -960 960 960\">\n",
              "    <path d=\"M120-120v-720h720v720H120Zm60-500h600v-160H180v160Zm220 220h160v-160H400v160Zm0 220h160v-160H400v160ZM180-400h160v-160H180v160Zm440 0h160v-160H620v160ZM180-180h160v-160H180v160Zm440 0h160v-160H620v160Z\"/>\n",
              "  </svg>\n",
              "    </button>\n",
              "\n",
              "  <style>\n",
              "    .colab-df-container {\n",
              "      display:flex;\n",
              "      gap: 12px;\n",
              "    }\n",
              "\n",
              "    .colab-df-convert {\n",
              "      background-color: #E8F0FE;\n",
              "      border: none;\n",
              "      border-radius: 50%;\n",
              "      cursor: pointer;\n",
              "      display: none;\n",
              "      fill: #1967D2;\n",
              "      height: 32px;\n",
              "      padding: 0 0 0 0;\n",
              "      width: 32px;\n",
              "    }\n",
              "\n",
              "    .colab-df-convert:hover {\n",
              "      background-color: #E2EBFA;\n",
              "      box-shadow: 0px 1px 2px rgba(60, 64, 67, 0.3), 0px 1px 3px 1px rgba(60, 64, 67, 0.15);\n",
              "      fill: #174EA6;\n",
              "    }\n",
              "\n",
              "    .colab-df-buttons div {\n",
              "      margin-bottom: 4px;\n",
              "    }\n",
              "\n",
              "    [theme=dark] .colab-df-convert {\n",
              "      background-color: #3B4455;\n",
              "      fill: #D2E3FC;\n",
              "    }\n",
              "\n",
              "    [theme=dark] .colab-df-convert:hover {\n",
              "      background-color: #434B5C;\n",
              "      box-shadow: 0px 1px 3px 1px rgba(0, 0, 0, 0.15);\n",
              "      filter: drop-shadow(0px 1px 2px rgba(0, 0, 0, 0.3));\n",
              "      fill: #FFFFFF;\n",
              "    }\n",
              "  </style>\n",
              "\n",
              "    <script>\n",
              "      const buttonEl =\n",
              "        document.querySelector('#df-25f00dc9-cf60-4764-9501-ae02d8d5ed8b button.colab-df-convert');\n",
              "      buttonEl.style.display =\n",
              "        google.colab.kernel.accessAllowed ? 'block' : 'none';\n",
              "\n",
              "      async function convertToInteractive(key) {\n",
              "        const element = document.querySelector('#df-25f00dc9-cf60-4764-9501-ae02d8d5ed8b');\n",
              "        const dataTable =\n",
              "          await google.colab.kernel.invokeFunction('convertToInteractive',\n",
              "                                                    [key], {});\n",
              "        if (!dataTable) return;\n",
              "\n",
              "        const docLinkHtml = 'Like what you see? Visit the ' +\n",
              "          '<a target=\"_blank\" href=https://colab.research.google.com/notebooks/data_table.ipynb>data table notebook</a>'\n",
              "          + ' to learn more about interactive tables.';\n",
              "        element.innerHTML = '';\n",
              "        dataTable['output_type'] = 'display_data';\n",
              "        await google.colab.output.renderOutput(dataTable, element);\n",
              "        const docLink = document.createElement('div');\n",
              "        docLink.innerHTML = docLinkHtml;\n",
              "        element.appendChild(docLink);\n",
              "      }\n",
              "    </script>\n",
              "  </div>\n",
              "\n",
              "\n",
              "<div id=\"df-94ba7273-d1db-4d18-a1d9-fab83f54030e\">\n",
              "  <button class=\"colab-df-quickchart\" onclick=\"quickchart('df-94ba7273-d1db-4d18-a1d9-fab83f54030e')\"\n",
              "            title=\"Suggest charts\"\n",
              "            style=\"display:none;\">\n",
              "\n",
              "<svg xmlns=\"http://www.w3.org/2000/svg\" height=\"24px\"viewBox=\"0 0 24 24\"\n",
              "     width=\"24px\">\n",
              "    <g>\n",
              "        <path d=\"M19 3H5c-1.1 0-2 .9-2 2v14c0 1.1.9 2 2 2h14c1.1 0 2-.9 2-2V5c0-1.1-.9-2-2-2zM9 17H7v-7h2v7zm4 0h-2V7h2v10zm4 0h-2v-4h2v4z\"/>\n",
              "    </g>\n",
              "</svg>\n",
              "  </button>\n",
              "\n",
              "<style>\n",
              "  .colab-df-quickchart {\n",
              "      --bg-color: #E8F0FE;\n",
              "      --fill-color: #1967D2;\n",
              "      --hover-bg-color: #E2EBFA;\n",
              "      --hover-fill-color: #174EA6;\n",
              "      --disabled-fill-color: #AAA;\n",
              "      --disabled-bg-color: #DDD;\n",
              "  }\n",
              "\n",
              "  [theme=dark] .colab-df-quickchart {\n",
              "      --bg-color: #3B4455;\n",
              "      --fill-color: #D2E3FC;\n",
              "      --hover-bg-color: #434B5C;\n",
              "      --hover-fill-color: #FFFFFF;\n",
              "      --disabled-bg-color: #3B4455;\n",
              "      --disabled-fill-color: #666;\n",
              "  }\n",
              "\n",
              "  .colab-df-quickchart {\n",
              "    background-color: var(--bg-color);\n",
              "    border: none;\n",
              "    border-radius: 50%;\n",
              "    cursor: pointer;\n",
              "    display: none;\n",
              "    fill: var(--fill-color);\n",
              "    height: 32px;\n",
              "    padding: 0;\n",
              "    width: 32px;\n",
              "  }\n",
              "\n",
              "  .colab-df-quickchart:hover {\n",
              "    background-color: var(--hover-bg-color);\n",
              "    box-shadow: 0 1px 2px rgba(60, 64, 67, 0.3), 0 1px 3px 1px rgba(60, 64, 67, 0.15);\n",
              "    fill: var(--button-hover-fill-color);\n",
              "  }\n",
              "\n",
              "  .colab-df-quickchart-complete:disabled,\n",
              "  .colab-df-quickchart-complete:disabled:hover {\n",
              "    background-color: var(--disabled-bg-color);\n",
              "    fill: var(--disabled-fill-color);\n",
              "    box-shadow: none;\n",
              "  }\n",
              "\n",
              "  .colab-df-spinner {\n",
              "    border: 2px solid var(--fill-color);\n",
              "    border-color: transparent;\n",
              "    border-bottom-color: var(--fill-color);\n",
              "    animation:\n",
              "      spin 1s steps(1) infinite;\n",
              "  }\n",
              "\n",
              "  @keyframes spin {\n",
              "    0% {\n",
              "      border-color: transparent;\n",
              "      border-bottom-color: var(--fill-color);\n",
              "      border-left-color: var(--fill-color);\n",
              "    }\n",
              "    20% {\n",
              "      border-color: transparent;\n",
              "      border-left-color: var(--fill-color);\n",
              "      border-top-color: var(--fill-color);\n",
              "    }\n",
              "    30% {\n",
              "      border-color: transparent;\n",
              "      border-left-color: var(--fill-color);\n",
              "      border-top-color: var(--fill-color);\n",
              "      border-right-color: var(--fill-color);\n",
              "    }\n",
              "    40% {\n",
              "      border-color: transparent;\n",
              "      border-right-color: var(--fill-color);\n",
              "      border-top-color: var(--fill-color);\n",
              "    }\n",
              "    60% {\n",
              "      border-color: transparent;\n",
              "      border-right-color: var(--fill-color);\n",
              "    }\n",
              "    80% {\n",
              "      border-color: transparent;\n",
              "      border-right-color: var(--fill-color);\n",
              "      border-bottom-color: var(--fill-color);\n",
              "    }\n",
              "    90% {\n",
              "      border-color: transparent;\n",
              "      border-bottom-color: var(--fill-color);\n",
              "    }\n",
              "  }\n",
              "</style>\n",
              "\n",
              "  <script>\n",
              "    async function quickchart(key) {\n",
              "      const quickchartButtonEl =\n",
              "        document.querySelector('#' + key + ' button');\n",
              "      quickchartButtonEl.disabled = true;  // To prevent multiple clicks.\n",
              "      quickchartButtonEl.classList.add('colab-df-spinner');\n",
              "      try {\n",
              "        const charts = await google.colab.kernel.invokeFunction(\n",
              "            'suggestCharts', [key], {});\n",
              "      } catch (error) {\n",
              "        console.error('Error during call to suggestCharts:', error);\n",
              "      }\n",
              "      quickchartButtonEl.classList.remove('colab-df-spinner');\n",
              "      quickchartButtonEl.classList.add('colab-df-quickchart-complete');\n",
              "    }\n",
              "    (() => {\n",
              "      let quickchartButtonEl =\n",
              "        document.querySelector('#df-94ba7273-d1db-4d18-a1d9-fab83f54030e button');\n",
              "      quickchartButtonEl.style.display =\n",
              "        google.colab.kernel.accessAllowed ? 'block' : 'none';\n",
              "    })();\n",
              "  </script>\n",
              "</div>\n",
              "\n",
              "    </div>\n",
              "  </div>\n"
            ],
            "application/vnd.google.colaboratory.intrinsic+json": {
              "type": "dataframe",
              "variable_name": "df",
              "summary": "{\n  \"name\": \"df\",\n  \"rows\": 50,\n  \"fields\": [\n    {\n      \"column\": \"Book Name\",\n      \"properties\": {\n        \"dtype\": \"string\",\n        \"num_unique_values\": 50,\n        \"samples\": [\n          \"Animals Tales From Panchtantra: Timeless Stories for Children From Ancient India\",\n          \"All In One Science CBSE Class 10th Based On Latest NCERT For CBSE Exams 2025 | Mind map in each chapter | Clear & Concise The\",\n          \"White Nights\"\n        ],\n        \"semantic_type\": \"\",\n        \"description\": \"\"\n      }\n    },\n    {\n      \"column\": \"book_image_link\",\n      \"properties\": {\n        \"dtype\": \"string\",\n        \"num_unique_values\": 50,\n        \"samples\": [\n          \"https://images-eu.ssl-images-amazon.com/images/I/71NM33ZCE1L._AC_UL300_SR300,200_.jpg\",\n          \"https://images-eu.ssl-images-amazon.com/images/I/81EmSiRmxXL._AC_UL300_SR300,200_.jpg\",\n          \"https://images-eu.ssl-images-amazon.com/images/I/41hykoV3d-L._AC_UL300_SR300,200_.jpg\"\n        ],\n        \"semantic_type\": \"\",\n        \"description\": \"\"\n      }\n    },\n    {\n      \"column\": \"Price/pack\",\n      \"properties\": {\n        \"dtype\": \"string\",\n        \"num_unique_values\": 33,\n        \"samples\": [\n          \"12,669\",\n          \"Hardcover\",\n          \"Team Pegasus\"\n        ],\n        \"semantic_type\": \"\",\n        \"description\": \"\"\n      }\n    }\n  ]\n}"
            }
          },
          "metadata": {},
          "execution_count": 33
        }
      ]
    },
    {
      "cell_type": "markdown",
      "source": [
        "#DATE_TIME_PACKAGE"
      ],
      "metadata": {
        "id": "0Wd6yMDsQbDl"
      }
    },
    {
      "cell_type": "code",
      "source": [
        "import datetime\n",
        "\n",
        "# Create a date object\n",
        "d = datetime.datetime.now()\n",
        "\n",
        "# Get the year, month, and day of the date\n",
        "year = d.year\n",
        "month = d.month\n",
        "day = d.day"
      ],
      "metadata": {
        "id": "T6yHVLOLNhOB"
      },
      "execution_count": null,
      "outputs": []
    },
    {
      "cell_type": "code",
      "source": [
        "df.to_csv(f\"best_book_around_my_location_on{day}-{month}-{year}-Now\")"
      ],
      "metadata": {
        "id": "XllD__y0OeVm"
      },
      "execution_count": null,
      "outputs": []
    },
    {
      "cell_type": "code",
      "source": [
        "df040824=pd.read_csv(\"/content/best_book_around_my_location_on4-8-2024\")\n",
        "df050824=pd.read_csv(\"/content/best_book_around_my_location_on5-8-2024-Now\")"
      ],
      "metadata": {
        "id": "jwuR62z3O78S"
      },
      "execution_count": null,
      "outputs": []
    },
    {
      "cell_type": "code",
      "source": [
        "x= [ df040824['Book Name'][i] == df040824['Book Name'][i]  for i in range(0,len(df040824))]"
      ],
      "metadata": {
        "id": "hRfuirDfPmFY"
      },
      "execution_count": null,
      "outputs": []
    },
    {
      "cell_type": "code",
      "source": [
        "len(x)"
      ],
      "metadata": {
        "id": "qBmf4sj9e6mc",
        "colab": {
          "base_uri": "https://localhost:8080/"
        },
        "outputId": "745bf62e-5fc6-47b0-df24-7c29ac11ae28"
      },
      "execution_count": null,
      "outputs": [
        {
          "output_type": "execute_result",
          "data": {
            "text/plain": [
              "50"
            ]
          },
          "metadata": {},
          "execution_count": 43
        }
      ]
    },
    {
      "cell_type": "code",
      "source": [
        "x.count(True)"
      ],
      "metadata": {
        "id": "lTEyth4JQtdH",
        "colab": {
          "base_uri": "https://localhost:8080/"
        },
        "outputId": "c934f251-79d6-45cd-e15b-b24a5111d8ab"
      },
      "execution_count": null,
      "outputs": [
        {
          "output_type": "execute_result",
          "data": {
            "text/plain": [
              "50"
            ]
          },
          "metadata": {},
          "execution_count": 48
        }
      ]
    },
    {
      "cell_type": "markdown",
      "source": [
        "#TIME FOR COMPLETING GIVEN TASKS\n",
        "#**1.Try to set other parameter too which lacking in length.**\n",
        "#**2.run a loop for page-URL link also so that it page 2,3 and ....soon.**\n",
        "#**3.Make currection in No_of_ratings.**"
      ],
      "metadata": {
        "id": "z_7NAUfGPZcc"
      }
    }
  ]
}